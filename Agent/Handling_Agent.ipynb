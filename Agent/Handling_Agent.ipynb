{
 "cells": [
  {
   "attachments": {},
   "cell_type": "markdown",
   "id": "9117b888",
   "metadata": {},
   "source": [
    "# 1 - Importa bibliotecas"
   ]
  },
  {
   "cell_type": "code",
   "execution_count": null,
   "id": "ab0f0694",
   "metadata": {},
   "outputs": [],
   "source": [
    "import os\n",
    "import numpy as np\n",
    "import torch as th\n",
    "from torch.nn import Tanh, ELU, ReLU, Sigmoid, Softmax\n",
    "import websocket\n",
    "import json\n",
    "import time\n",
    "import torch\n",
    "from torch import nn\n",
    "import torchvision\n",
    "import random\n",
    "import tqdm\n",
    "from tqdm import tqdm\n",
    "import gym\n",
    "import stable_baselines3\n",
    "from gym import Env\n",
    "from gym.spaces import Discrete, Box, Tuple, MultiDiscrete\n",
    "from stable_baselines3 import PPO, DQN, A2C, SAC, TD3, DDPG\n",
    "from stable_baselines3.common.vec_env import DummyVecEnv\n",
    "from stable_baselines3.common.evaluation import evaluate_policy\n",
    "from stable_baselines3.common.callbacks import CheckpointCallback, CallbackList, ProgressBarCallback,  EvalCallback\n",
    "from stable_baselines3.common.torch_layers import BaseFeaturesExtractor\n",
    "from sb3_contrib import RecurrentPPO, TQC, QRDQN, MaskablePPO, TRPO, ARS"
   ]
  },
  {
   "attachments": {},
   "cell_type": "markdown",
   "id": "0ca9b02a",
   "metadata": {},
   "source": [
    "# 2 - Cria funções de encoding/decoding em json"
   ]
  },
  {
   "cell_type": "code",
   "execution_count": null,
   "id": "76215066",
   "metadata": {},
   "outputs": [],
   "source": [
    "class NumpyEncoder(json.JSONEncoder):\n",
    "    \"\"\" Special json encoder for numpy types \"\"\"\n",
    "    def default(self, obj):\n",
    "        if isinstance(obj, np.integer):\n",
    "            return int(obj)\n",
    "        elif isinstance(obj, np.floating):\n",
    "            return float(obj)\n",
    "        elif isinstance(obj, np.ndarray):            \n",
    "            return obj.tolist()\n",
    "        \n",
    "        return json.JSONEncoder.default(self, obj)\n",
    "    \n",
    "identifier ='Handling_manual'\n",
    "actions =[]\n",
    "message = ''\n",
    "\n",
    "\n",
    "def encode_json(identifier, actions):\n",
    "    data = {}\n",
    "    data['identifier'] = identifier\n",
    "    data['actions'] = actions\n",
    "    json_data = json.dumps(data, cls=NumpyEncoder)\n",
    "    return json_data"
   ]
  },
  {
   "attachments": {},
   "cell_type": "markdown",
   "id": "dd9599a2",
   "metadata": {},
   "source": [
    "# 3 - Define função de criação do agente"
   ]
  },
  {
   "cell_type": "code",
   "execution_count": null,
   "id": "d38498f9",
   "metadata": {},
   "outputs": [],
   "source": [
    "class DrillEnv(Env):\n",
    "    \"\"\"Custom Environment that follows gym interface\"\"\"\n",
    "    metadata = {'render.modes': ['human']}\n",
    "\n",
    "    def _reset(self):\n",
    "        \n",
    "        self.reward = 0\n",
    "        self.action_name = ''\n",
    "        self.ConveyorFinish = False\n",
    "        self.GripperClose = False\n",
    "        self.Picked = False\n",
    "        self.GantryYposition = 0\n",
    "        self.GantryYatDestination = False\n",
    "        self.GantryZPosition = 0\n",
    "        self.GantryZatDestination = False\n",
    "        self.GantryYdriving = False\n",
    "        self.GantryZdriving = False\n",
    "        self.BoxSensor = False\n",
    "        self.ChangeCycle = False\n",
    "        actions = []\n",
    "        self.number_steps = 0\n",
    "        self.rewards = []\n",
    "        self.buffer_size = tamanho_buffer\n",
    "        self.state_buffer = np.zeros((self.buffer_size * 6))\n",
    "        self.rewards.append(0) \n",
    "        \n",
    "    def _obs(self):\n",
    "        obs= self.state_buffer                     \n",
    "        return obs\n",
    "        \n",
    "\n",
    "    def setprint(self, print):\n",
    "        self.print = print \n",
    "    def setprint2(self, print):\n",
    "        self.print2 = print\n",
    "    \n",
    "    def __init__(self):     \n",
    "        super(DrillEnv, self).__init__()\n",
    "        self.reset()\n",
    "\n",
    "        self.print = False\n",
    "        self.print2 = False\n",
    "        self.action_space = Discrete(11)\n",
    "        self.observation_space = Box(low=0, high=1, shape=(1,self.buffer_size * 6), dtype=np.float32)\n",
    "        \n",
    "    def buffer(self, ConveyorFinish, Picked, GantryYposition, \n",
    "                   GantryZPosition, GripperClose, ChangeCycle):\n",
    "\n",
    "        self.state_buffer = np.roll(self.state_buffer,6)         \n",
    "        self.state_buffer[0] = ConveyorFinish \n",
    "        self.state_buffer[1] = Picked \n",
    "        self.state_buffer[2] = GantryYposition\n",
    "        self.state_buffer[3] = GantryZPosition \n",
    "        self.state_buffer[4] = GripperClose \n",
    "        self.state_buffer[5] = ChangeCycle\n",
    "        \n",
    "    def step(self, action):\n",
    "        actions = action\n",
    "        \n",
    "        self.number_steps += 1                 \n",
    "        mensagem = encode_json('Handling_manual',  [actions])        \n",
    "        ws.send(mensagem)\n",
    "\n",
    "        data =''\n",
    "        station_identifier = ''\n",
    "        while  station_identifier != 'Handling':\n",
    "            try:\n",
    "                data = json.loads(ws.recv())                \n",
    "                station_identifier = (data['identifier'])\n",
    "            except:\n",
    "                return\n",
    "        \n",
    "        self.reward = int(data['reward'])\n",
    "         \n",
    "        if bool(data['done']) == False:\n",
    "            done = False\n",
    "        else:\n",
    "            done = True\n",
    "               \n",
    "        self.ConveyorFinish = bool(data['states'][0])\n",
    "        self.Picked = bool(data['states'][1])\n",
    "        self.GantryYposition = float(data['states'][2])\n",
    "        self.GantryZPosition = float(data['states'][3])\n",
    "        self.GripperClose = bool(data['states'][4])\n",
    "        self.ChangeCycle = bool(data['states'][5])\n",
    "                \n",
    "        self.buffer(self.ConveyorFinish, self.Picked, self.GantryYposition,self.GantryZPosition, self.GripperClose, self.ChangeCycle) \n",
    "        info = {}\n",
    "        obs=self._obs()\n",
    "        \n",
    "        \n",
    "        actions_dict = {\n",
    "                            0: {'gripClose': False},\n",
    "                            1: {'gripClose': True},\n",
    "                            2: {'GantryZposition': 0, 'GantryYposition': 0},\n",
    "                            3: {'GantryZposition': 200, 'GantryYposition': 0},\n",
    "                            4: {'GantryZposition': 0, 'GantryYposition': 430},\n",
    "                            5: {'GantryZposition': 200, 'GantryYposition': 430},\n",
    "                            6: {'GantryZposition': 0, 'GantryYposition': 530},\n",
    "                            7: {'GantryZposition': 200, 'GantryYposition': 530},\n",
    "                            8: {'GantryZposition': 0, 'GantryYposition': 630},\n",
    "                            9: {'GantryZposition': 200, 'GantryYposition': 630},\n",
    "                            10: {'rowFinished': True}\n",
    "                        }\n",
    "        \n",
    "        if self.print:  \n",
    "            print((self.number_steps),'recompensa: ',(self.reward),'|  acao --> ', actions_dict[actions],'  done: ', done)\n",
    "            for name, value in zip(['ConveyorFinish', 'Picked', 'GantryYposition', 'GantryZPosition', 'GripperClose', 'ChangeCycle'], self.state_buffer[0:6]):\n",
    "                print(f\"{name}: {value}\")\n",
    "            print('\\n')\n",
    "\n",
    "        # Return step information\n",
    "        return obs, self.reward, done, info\n",
    "    \n",
    "    def render(self , mode):\n",
    "        pass\n",
    "    def reset(self):        \n",
    "        self._reset()\n",
    "        return self._obs()"
   ]
  },
  {
   "attachments": {},
   "cell_type": "markdown",
   "id": "198c5551",
   "metadata": {},
   "source": [
    "# 4 - Cria o modelo em Aprendizagem por Reforço"
   ]
  },
  {
   "cell_type": "code",
   "execution_count": null,
   "id": "84eeed07",
   "metadata": {},
   "outputs": [],
   "source": [
    "algoritmo = TRPO\n",
    "nome_do_ficheiro = \"TRPO\"\n",
    "tamanho_buffer = 7 # tamanho do buffer aplicado ao algoritmo\n",
    "funcao_ativacao = Tanh #ex: Tanh, ELU, ReLU, Sigmoid, Softmax\n",
    "rede_neuronal=[dict(pi=[60,60], vf=[60,60])] # define número de nurónios na rede neuronal de política e rede neuronal de valor\n",
    "tipo_camadas = 'MlpPolicy' # define o tipo de camadas do modelo !!---(Para modelo em PPORecurrent, usar MlpLstmPolicy)---!!\n",
    "fator_desconto= 0.95 #fator de desconto para aprendizagem por reforço\n",
    "save_path = os.path.join('Training_Handling','Model_saves',f\"\"\"{nome_do_ficheiro}_B{tamanho_buffer}\"\"\")"
   ]
  },
  {
   "cell_type": "code",
   "execution_count": null,
   "id": "42c516b0",
   "metadata": {},
   "outputs": [],
   "source": [
    "save_path = os.path.join('Training_Handling','Model_saves',f\"\"\"{nome_do_ficheiro}_B{tamanho_buffer}\"\"\")\n",
    "policy_kwargs = dict(activation_fn=funcao_ativacao,net_arch=rede_neuronal)\n",
    "log_path = os.path.join('Training_Handling','Logs',f\"\"\"{nome_do_ficheiro}_B{tamanho_buffer}\"\"\")\n",
    "\n",
    "env=DrillEnv()\n",
    "env.setprint(False) ### imprime os estados e ações\n",
    "env=DummyVecEnv([lambda: env])\n",
    "env.reset()\n",
    "\n",
    "\n",
    "model=algoritmo(tipo_camadas,env,verbose=1,\n",
    "        gamma=fator_desconto, gae_lambda=0.95,\n",
    "        seed=9,policy_kwargs=policy_kwargs, \n",
    "        tensorboard_log=log_path)\n",
    "\n",
    "\n",
    "print(model.policy)\n",
    " "
   ]
  },
  {
   "attachments": {},
   "cell_type": "markdown",
   "id": "84904025",
   "metadata": {},
   "source": [
    "# 5 - Define funções de callback"
   ]
  },
  {
   "cell_type": "code",
   "execution_count": null,
   "id": "3e46b38e",
   "metadata": {},
   "outputs": [],
   "source": [
    "checkpoint_callback = CheckpointCallback(\n",
    "  save_freq=10000,\n",
    "  save_path=os.path.join('Training_Handling','Model_saves',f\"\"\"{nome_do_ficheiro}_B{tamanho_buffer}_checkpoint\"\"\"),\n",
    "  name_prefix=f\"\"\"{nome_do_ficheiro}_B{tamanho_buffer}_checkpoint\"\"\")\n",
    "\n",
    "\n",
    "eval_callback = EvalCallback(env, n_eval_episodes=3,\n",
    "                             best_model_save_path=os.path.join('Training_Handling','Model_saves',f\"\"\"{nome_do_ficheiro}_B{tamanho_buffer}_backup\"\"\",'Best_model'),\n",
    "                             log_path=log_path, eval_freq=4096,\n",
    "                             deterministic=False, render=False)\n",
    "callback = CallbackList([checkpoint_callback, ProgressBarCallback(),  eval_callback])"
   ]
  },
  {
   "attachments": {},
   "cell_type": "markdown",
   "id": "95ca01b8",
   "metadata": {},
   "source": [
    "# 6 - Inicia treino"
   ]
  },
  {
   "cell_type": "code",
   "execution_count": null,
   "id": "0702db40",
   "metadata": {},
   "outputs": [],
   "source": [
    "n_steps = 15000 ### define número de passos para treino\n",
    "\n",
    "ws = websocket.WebSocket()\n",
    "\n",
    "ws.connect(\"ws://127.0.0.1:12000\")\n",
    "time.sleep(1)\n",
    "\n",
    "for i in range(1):\n",
    "    model.learn(total_timesteps=n_steps,log_interval=200,callback=callback)"
   ]
  },
  {
   "attachments": {},
   "cell_type": "markdown",
   "id": "764cd425",
   "metadata": {},
   "source": [
    "# 7 - Salva o modelo (caso necessário)"
   ]
  },
  {
   "cell_type": "code",
   "execution_count": null,
   "id": "419b3ac0",
   "metadata": {},
   "outputs": [],
   "source": [
    "model.save(save_path)"
   ]
  },
  {
   "attachments": {},
   "cell_type": "markdown",
   "id": "b0b4814b",
   "metadata": {},
   "source": [
    "# 8 - Carrega o modelo (caso necessário)"
   ]
  },
  {
   "cell_type": "code",
   "execution_count": null,
   "id": "51187987",
   "metadata": {},
   "outputs": [],
   "source": [
    "nome_do_ficheiro_carregar = \"A2C\" ###\n",
    "algoritmo_carregar = A2C ### Algoritmo a carregar\n",
    "tamanho_buffer_carregar = 3\n",
    "\n",
    "####------------------------------------***----------------------------------------------------####\n",
    "\n",
    "tamanho_buffer = tamanho_buffer_carregar\n",
    "load_path = os.path.join('Training_Handling','Model_saves',f\"\"\"{nome_do_ficheiro_carregar}_B{tamanho_buffer_carregar}\"\"\")\n",
    "model = algoritmo_carregar.load(load_path)\n",
    "print(\"Carregando ficheiro: \",nome_do_ficheiro_carregar, \"no caminho: \", load_path)\n",
    "print(\"\\n\",\"*\" * 100,\"\\n\" )\n",
    "print(model.policy)"
   ]
  },
  {
   "attachments": {},
   "cell_type": "markdown",
   "id": "1dc0d36e",
   "metadata": {},
   "source": [
    "# 9 - Utiliza modelo treinado no ambiente"
   ]
  },
  {
   "cell_type": "code",
   "execution_count": null,
   "id": "43a610aa",
   "metadata": {},
   "outputs": [],
   "source": [
    "\n",
    "env=DrillEnv()\n",
    "env.setprint(True) ### Imprime estados e ações\n",
    "env=DummyVecEnv([lambda: env])\n",
    "env.reset()\n",
    "\n",
    "  \n",
    "ws = websocket.WebSocket()\n",
    "ws.connect(\"ws://127.0.0.1:12000\")\n",
    "time.sleep(1)\n",
    "mensagem = encode_json('CanConveyor_automatico', []) ### Para deixar a esteira de latas no modo automático\n",
    "ws.send(mensagem)\n",
    "mensagem = encode_json('BoxConveyor_automatico', []) ### Para deixar a esteira de caixa de latas no modo automático\n",
    "time.sleep(1)\n",
    "ws.send(mensagem)\n",
    "obs = env.reset()\n",
    "while True: \n",
    "    action, _states = model.predict(obs, deterministic=True)\n",
    "    obs, reward, done, info = env.step(action)\n",
    "    env.render() \n",
    "    if done: \n",
    "        obs = env.reset()  "
   ]
  },
  {
   "cell_type": "code",
   "execution_count": null,
   "id": "b40e6d41",
   "metadata": {},
   "outputs": [],
   "source": []
  }
 ],
 "metadata": {
  "kernelspec": {
   "display_name": "Python 3 (ipykernel)",
   "language": "python",
   "name": "python3"
  },
  "language_info": {
   "codemirror_mode": {
    "name": "ipython",
    "version": 3
   },
   "file_extension": ".py",
   "mimetype": "text/x-python",
   "name": "python",
   "nbconvert_exporter": "python",
   "pygments_lexer": "ipython3",
   "version": "3.10.2"
  }
 },
 "nbformat": 4,
 "nbformat_minor": 5
}
